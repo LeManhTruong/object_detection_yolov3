{
    "cells": [
        {
            "cell_type": "markdown",
            "metadata": {
                "collapsed": true
            },
            "source": "# Description\n\nThis is `the first` Notebook on IBM"
        },
        {
            "cell_type": "code",
            "execution_count": 3,
            "metadata": {},
            "outputs": [],
            "source": "import os\nimport numpy as np\nimport pandas as pd\n"
        },
        {
            "cell_type": "code",
            "execution_count": 4,
            "metadata": {},
            "outputs": [
                {
                    "name": "stdout",
                    "output_type": "stream",
                    "text": "a:  [1 2 3]\nb:  [3 4 5]\nc:  [4 6 8]\n"
                }
            ],
            "source": "a = np.array((1, 2, 3))\nb = np.array((3, 4, 5))\nc = a + b\nprint(\"a: \", a)\nprint(\"b: \", b)\nprint(\"c: \", c)"
        },
        {
            "cell_type": "markdown",
            "metadata": {},
            "source": "# First table\n\n|Head 1 |Head 2 |Head 3 |\n|-------|-------|-------|\n|Value 1 |Value 2|Value 3|\n"
        },
        {
            "cell_type": "code",
            "execution_count": null,
            "metadata": {},
            "outputs": [],
            "source": ""
        }
    ],
    "metadata": {
        "kernelspec": {
            "display_name": "Python 3.7",
            "language": "python",
            "name": "python3"
        },
        "language_info": {
            "codemirror_mode": {
                "name": "ipython",
                "version": 3
            },
            "file_extension": ".py",
            "mimetype": "text/x-python",
            "name": "python",
            "nbconvert_exporter": "python",
            "pygments_lexer": "ipython3",
            "version": "3.7.9"
        }
    },
    "nbformat": 4,
    "nbformat_minor": 1
}